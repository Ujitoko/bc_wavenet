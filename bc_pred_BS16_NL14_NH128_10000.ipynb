{
 "cells": [
  {
   "cell_type": "markdown",
   "metadata": {},
   "source": [
    "# Wavenet Demo\n",
    "Demo of our efficient generation implementation.\n",
    "\n",
    "Trains wavenet on a single wav file. Then generates that file, starting from a single sample."
   ]
  },
  {
   "cell_type": "code",
   "execution_count": 1,
   "metadata": {},
   "outputs": [
    {
     "data": {
      "application/javascript": [
       "Jupyter.keyboard_manager.command_shortcuts.add_shortcut('shift-x',\n",
       "    function(event) {\n",
       "        IPython.notebook.kernel.restart()\n",
       "        IPython.notebook.execute_all_cells();\n",
       "        return false;\n",
       "    }\n",
       ");"
      ],
      "text/plain": [
       "<IPython.core.display.Javascript object>"
      ]
     },
     "metadata": {},
     "output_type": "display_data"
    }
   ],
   "source": [
    "%%javascript\n",
    "Jupyter.keyboard_manager.command_shortcuts.add_shortcut('shift-x',\n",
    "    function(event) {\n",
    "        IPython.notebook.kernel.restart()\n",
    "        IPython.notebook.execute_all_cells();\n",
    "        return false;\n",
    "    }\n",
    ");"
   ]
  },
  {
   "cell_type": "code",
   "execution_count": 2,
   "metadata": {},
   "outputs": [],
   "source": [
    "from time import time\n",
    "import os\n",
    "import numpy as np\n",
    "\n",
    "from wavenet.models import Model\n",
    "\n",
    "from IPython.display import Audio\n",
    "%matplotlib inline\n",
    "\n",
    "import tensorflow as tf\n",
    "from tensorflow.contrib import rnn"
   ]
  },
  {
   "cell_type": "code",
   "execution_count": null,
   "metadata": {},
   "outputs": [],
   "source": [
    "class BC_Predictor():\n",
    "    def __init__(self):\n",
    "        num_time_samples = 250 # timesteps\n",
    "        \n",
    "        num_channels = 6\n",
    "        num_blocks = 2\n",
    "        num_layers = 14\n",
    "        num_hidden = 256\n",
    "        gpu_num = \"0\"\n",
    "        batch_size = 64\n",
    "        model_name = \"model_\" + str(num_channels) + \"C_BS\" + str(batch_size) + \"_NB\" + str(num_blocks) + \"_NL\" + str(num_layers) + \"_NH\" +str(num_hidden) + \"_TS\" + str(num_time_samples)\n",
    "        \n",
    "        self.model = Model(\n",
    "            num_time_samples=num_time_samples,\n",
    "            num_channels=num_channels, \n",
    "            num_blocks=num_blocks,\n",
    "            num_layers=num_layers, \n",
    "            num_hidden=num_hidden,\n",
    "            batch_size=batch_size,\n",
    "            gpu_num=gpu_num, \n",
    "            model_name=model_name)\n",
    "        \n",
    "    def train(self):\n",
    "        self.model.train()"
   ]
  },
  {
   "cell_type": "code",
   "execution_count": null,
   "metadata": {},
   "outputs": [
    {
     "name": "stdout",
     "output_type": "stream",
     "text": [
      "(?, 250, 1536)\n",
      "(?, 250, 6)\n",
      "init\n",
      "init of bitcoin dataset\n",
      "Make Generator.\n",
      "i:100, cost:28.653331756591797\n",
      "i:200, cost:26.720535278320312\n",
      "i:300, cost:25.471668243408203\n",
      "i:400, cost:24.03896141052246\n",
      "i:500, cost:22.071882247924805\n",
      "i:600, cost:20.969280242919922\n",
      "i:700, cost:19.807575225830078\n",
      "i:800, cost:19.497234344482422\n",
      "i:900, cost:17.76949691772461\n",
      "i:1000, cost:15.876935958862305\n",
      "i:1100, cost:15.879384994506836\n",
      "i:1200, cost:13.812785148620605\n",
      "i:1300, cost:14.625954627990723\n",
      "i:1400, cost:13.029988288879395\n",
      "i:1500, cost:12.540271759033203\n",
      "i:1600, cost:11.653534889221191\n",
      "i:1700, cost:11.075262069702148\n",
      "i:1800, cost:23.4948673248291\n",
      "i:1900, cost:18.006608963012695\n",
      "i:2000, cost:14.332486152648926\n",
      "i:2100, cost:12.85177993774414\n",
      "i:2200, cost:11.587873458862305\n"
     ]
    }
   ],
   "source": [
    "if __name__ == \"__main__\":\n",
    "    net = BC_Predictor()\n",
    "    net.train()"
   ]
  },
  {
   "cell_type": "code",
   "execution_count": null,
   "metadata": {},
   "outputs": [],
   "source": []
  }
 ],
 "metadata": {
  "kernelspec": {
   "display_name": "Python 3",
   "language": "python",
   "name": "python3"
  }
 },
 "nbformat": 4,
 "nbformat_minor": 1
}
