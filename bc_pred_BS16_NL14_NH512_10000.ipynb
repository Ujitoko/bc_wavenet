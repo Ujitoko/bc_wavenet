{
 "cells": [
  {
   "cell_type": "markdown",
   "metadata": {},
   "source": [
    "# Wavenet Demo\n",
    "Demo of our efficient generation implementation.\n",
    "\n",
    "Trains wavenet on a single wav file. Then generates that file, starting from a single sample."
   ]
  },
  {
   "cell_type": "code",
   "execution_count": 1,
   "metadata": {},
   "outputs": [
    {
     "data": {
      "application/javascript": [
       "Jupyter.keyboard_manager.command_shortcuts.add_shortcut('shift-x',\n",
       "    function(event) {\n",
       "        IPython.notebook.kernel.restart()\n",
       "        IPython.notebook.execute_all_cells();\n",
       "        return false;\n",
       "    }\n",
       ");"
      ],
      "text/plain": [
       "<IPython.core.display.Javascript object>"
      ]
     },
     "metadata": {},
     "output_type": "display_data"
    }
   ],
   "source": [
    "%%javascript\n",
    "Jupyter.keyboard_manager.command_shortcuts.add_shortcut('shift-x',\n",
    "    function(event) {\n",
    "        IPython.notebook.kernel.restart()\n",
    "        IPython.notebook.execute_all_cells();\n",
    "        return false;\n",
    "    }\n",
    ");"
   ]
  },
  {
   "cell_type": "code",
   "execution_count": 2,
   "metadata": {},
   "outputs": [],
   "source": [
    "from time import time\n",
    "import os\n",
    "import numpy as np\n",
    "\n",
    "from wavenet.models import Model\n",
    "\n",
    "from IPython.display import Audio\n",
    "%matplotlib inline\n",
    "\n",
    "import tensorflow as tf\n",
    "from tensorflow.contrib import rnn"
   ]
  },
  {
   "cell_type": "code",
   "execution_count": null,
   "metadata": {},
   "outputs": [],
   "source": [
    "class BC_Predictor():\n",
    "    def __init__(self):\n",
    "        num_time_samples = 250 # timesteps\n",
    "        \n",
    "        num_channels = 6\n",
    "        num_blocks = 2\n",
    "        num_layers = 14\n",
    "        num_hidden = 512\n",
    "        gpu_num = \"0\"\n",
    "        batch_size = 32\n",
    "        model_name = \"model_\" + str(num_channels) + \"C_BS\" + str(batch_size) + \"_NB\" + str(num_blocks) + \"_NL\" + str(num_layers) + \"_NH\" +str(num_hidden) + \"_TS\" + str(num_time_samples)\n",
    "        \n",
    "        self.model = Model(\n",
    "            num_time_samples=num_time_samples,\n",
    "            num_channels=num_channels, \n",
    "            num_blocks=num_blocks,\n",
    "            num_layers=num_layers, \n",
    "            num_hidden=num_hidden,\n",
    "            batch_size=batch_size,\n",
    "            gpu_num=gpu_num, \n",
    "            model_name=model_name)\n",
    "        \n",
    "    def train(self):\n",
    "        self.model.train()"
   ]
  },
  {
   "cell_type": "code",
   "execution_count": null,
   "metadata": {},
   "outputs": [
    {
     "name": "stdout",
     "output_type": "stream",
     "text": [
      "(?, 250, 3072)\n",
      "(?, 250, 6)\n",
      "init\n",
      "init of bitcoin dataset\n",
      "Make Generator.\n",
      "i:100, cost:36.961055755615234\n"
     ]
    }
   ],
   "source": [
    "if __name__ == \"__main__\":\n",
    "    net = BC_Predictor()\n",
    "    net.train()"
   ]
  },
  {
   "cell_type": "code",
   "execution_count": null,
   "metadata": {},
   "outputs": [],
   "source": []
  }
 ],
 "metadata": {
  "kernelspec": {
   "display_name": "Python 3",
   "language": "python",
   "name": "python3"
  },
  "language_info": {
   "codemirror_mode": {
    "name": "ipython",
    "version": 3
   },
   "file_extension": ".py",
   "mimetype": "text/x-python",
   "name": "python",
   "nbconvert_exporter": "python",
   "pygments_lexer": "ipython3",
   "version": "3.5.2"
  }
 },
 "nbformat": 4,
 "nbformat_minor": 1
}
